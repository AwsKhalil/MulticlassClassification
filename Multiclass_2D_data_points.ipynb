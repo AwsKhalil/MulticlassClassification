{
  "nbformat": 4,
  "nbformat_minor": 0,
  "metadata": {
    "colab": {
      "name": "Multiclass_2D_data_points.ipynb",
      "provenance": [],
      "collapsed_sections": []
    },
    "kernelspec": {
      "name": "python3",
      "display_name": "Python 3"
    }
  },
  "cells": [
    {
      "cell_type": "code",
      "metadata": {
        "id": "4yAyNuSx6IZA"
      },
      "source": [
        "import numpy as np\n",
        "import matplotlib.pyplot as plt\n",
        "from sklearn import datasets\n",
        "import keras\n",
        "from keras.models import Sequential\n",
        "from keras.layers import Dense \n",
        "from keras.optimizers import Adam\n",
        "from keras.utils.np_utils import to_categorical"
      ],
      "execution_count": null,
      "outputs": []
    },
    {
      "cell_type": "code",
      "metadata": {
        "id": "0U8Ms2by6SUO"
      },
      "source": [
        "n_pts = 500\n",
        "centers = [[-1,1], [-1,-1], [1,-1]] #define the three centers of our clusters\n",
        "X, y = datasets.make_blobs(n_samples=n_pts, random_state=123, centers=centers, cluster_std = 0.4) #cluster_std is the standard deviation from the center of each cluster\n",
        "#print(X) \n",
        "#print(y) # notice that we now have 3 labels "
      ],
      "execution_count": null,
      "outputs": []
    },
    {
      "cell_type": "code",
      "metadata": {
        "id": "otGSLbPA6SXo",
        "colab": {
          "base_uri": "https://localhost:8080/",
          "height": 282
        },
        "outputId": "1376977a-aa83-49d5-ad48-702f186cf33f"
      },
      "source": [
        "plt.scatter(X[y==0, 0], X[y==0, 1])\n",
        "plt.scatter(X[y==1, 0], X[y==1, 1])\n",
        "plt.scatter(X[y==2, 0], X[y==2, 1])"
      ],
      "execution_count": null,
      "outputs": [
        {
          "output_type": "execute_result",
          "data": {
            "text/plain": [
              "<matplotlib.collections.PathCollection at 0x7fbd06bc4080>"
            ]
          },
          "metadata": {
            "tags": []
          },
          "execution_count": 3
        },
        {
          "output_type": "display_data",
          "data": {
            "image/png": "[encoded data removed]",
            "text/plain": [
              "<Figure size 432x288 with 1 Axes>"
            ]
          },
          "metadata": {
            "tags": [],
            "needs_background": "light"
          }
        }
      ]
    },
    {
      "cell_type": "code",
      "metadata": {
        "id": "Qnf_GNrH6Sa4",
        "colab": {
          "base_uri": "https://localhost:8080/"
        },
        "outputId": "b59ac2a3-4b00-47c4-9344-7aec52e33f59"
      },
      "source": [
        "y_cat = to_categorical(y, 3) # (labels, number of clusters) # used to convert the labels to binary to calculate categorical cross entropy\n",
        "print(y_cat)"
      ],
      "execution_count": null,
      "outputs": [
        {
          "output_type": "stream",
          "text": [
            "[[0. 0. 1.]\n",
            " [0. 0. 1.]\n",
            " [0. 0. 1.]\n",
            " ...\n",
            " [0. 1. 0.]\n",
            " [0. 1. 0.]\n",
            " [1. 0. 0.]]\n"
          ],
          "name": "stdout"
        }
      ]
    },
    {
      "cell_type": "code",
      "metadata": {
        "id": "jCWDS35S6SdL"
      },
      "source": [
        "model = Sequential()\n",
        "model.add(Dense(units=3, input_shape=(2,), activation='softmax')) #units: number of clusters\n",
        "model.compile(Adam(lr=0.1), loss='categorical_crossentropy', metrics=['accuracy'])"
      ],
      "execution_count": null,
      "outputs": []
    },
    {
      "cell_type": "code",
      "metadata": {
        "id": "lSkEPzxp6SgS",
        "colab": {
          "base_uri": "https://localhost:8080/"
        },
        "outputId": "7863fe6d-8246-4bef-fc60-4113e4923527"
      },
      "source": [
        "model.fit(x=X, y=y_cat, verbose=1, batch_size = 50, epochs=100)"
      ],
      "execution_count": null,
      "outputs": [
        {
          "output_type": "stream",
          "text": [
            "Epoch 1/100\n",
            "10/10 [==============================] - 1s 1ms/step - loss: 1.2019 - accuracy: 0.3858\n",
            "Epoch 2/100\n",
            "10/10 [==============================] - 0s 1ms/step - loss: 0.3396 - accuracy: 0.9620\n",
            "Epoch 3/100\n",
            "10/10 [==============================] - 0s 1ms/step - loss: 0.1447 - accuracy: 0.9844\n",
            "Epoch 4/100\n",
            "10/10 [==============================] - 0s 1ms/step - loss: 0.0981 - accuracy: 0.9893\n",
            "Epoch 5/100\n",
            "10/10 [==============================] - 0s 1ms/step - loss: 0.0874 - accuracy: 0.9817\n",
            "Epoch 6/100\n",
            "10/10 [==============================] - 0s 745us/step - loss: 0.0685 - accuracy: 0.9855\n",
            "Epoch 7/100\n",
            "10/10 [==============================] - 0s 896us/step - loss: 0.0653 - accuracy: 0.9872\n",
            "Epoch 8/100\n",
            "10/10 [==============================] - 0s 888us/step - loss: 0.0670 - accuracy: 0.9829\n",
            "Epoch 9/100\n",
            "10/10 [==============================] - 0s 896us/step - loss: 0.0586 - accuracy: 0.9844\n",
            "Epoch 10/100\n",
            "10/10 [==============================] - 0s 1ms/step - loss: 0.0524 - accuracy: 0.9874\n",
            "Epoch 11/100\n",
            "10/10 [==============================] - 0s 1ms/step - loss: 0.0461 - accuracy: 0.9916\n",
            "Epoch 12/100\n",
            "10/10 [==============================] - 0s 1ms/step - loss: 0.0502 - accuracy: 0.9905\n",
            "Epoch 13/100\n",
            "10/10 [==============================] - 0s 1ms/step - loss: 0.0509 - accuracy: 0.9879\n",
            "Epoch 14/100\n",
            "10/10 [==============================] - 0s 1ms/step - loss: 0.0437 - accuracy: 0.9915\n",
            "Epoch 15/100\n",
            "10/10 [==============================] - 0s 2ms/step - loss: 0.0426 - accuracy: 0.9900\n",
            "Epoch 16/100\n",
            "10/10 [==============================] - 0s 1ms/step - loss: 0.0420 - accuracy: 0.9884\n",
            "Epoch 17/100\n",
            "10/10 [==============================] - 0s 1ms/step - loss: 0.0347 - accuracy: 0.9954\n",
            "Epoch 18/100\n",
            "10/10 [==============================] - 0s 1ms/step - loss: 0.0392 - accuracy: 0.9914\n",
            "Epoch 19/100\n",
            "10/10 [==============================] - 0s 2ms/step - loss: 0.0417 - accuracy: 0.9876\n",
            "Epoch 20/100\n",
            "10/10 [==============================] - 0s 2ms/step - loss: 0.0462 - accuracy: 0.9837\n",
            "Epoch 21/100\n",
            "10/10 [==============================] - 0s 2ms/step - loss: 0.0508 - accuracy: 0.9829\n",
            "Epoch 22/100\n",
            "10/10 [==============================] - 0s 1ms/step - loss: 0.0337 - accuracy: 0.9912\n",
            "Epoch 23/100\n",
            "10/10 [==============================] - 0s 1ms/step - loss: 0.0383 - accuracy: 0.9923\n",
            "Epoch 24/100\n",
            "10/10 [==============================] - 0s 1ms/step - loss: 0.0446 - accuracy: 0.9865\n",
            "Epoch 25/100\n",
            "10/10 [==============================] - 0s 1ms/step - loss: 0.0366 - accuracy: 0.9898\n",
            "Epoch 26/100\n",
            "10/10 [==============================] - 0s 1ms/step - loss: 0.0356 - accuracy: 0.9898\n",
            "Epoch 27/100\n",
            "10/10 [==============================] - 0s 1ms/step - loss: 0.0369 - accuracy: 0.9872\n",
            "Epoch 28/100\n",
            "10/10 [==============================] - 0s 1ms/step - loss: 0.0321 - accuracy: 0.9896\n",
            "Epoch 29/100\n",
            "10/10 [==============================] - 0s 1ms/step - loss: 0.0343 - accuracy: 0.9887\n",
            "Epoch 30/100\n",
            "10/10 [==============================] - 0s 1ms/step - loss: 0.0391 - accuracy: 0.9845\n",
            "Epoch 31/100\n",
            "10/10 [==============================] - 0s 1ms/step - loss: 0.0394 - accuracy: 0.9857\n",
            "Epoch 32/100\n",
            "10/10 [==============================] - 0s 1ms/step - loss: 0.0337 - accuracy: 0.9913\n",
            "Epoch 33/100\n",
            "10/10 [==============================] - 0s 1ms/step - loss: 0.0306 - accuracy: 0.9893\n",
            "Epoch 34/100\n",
            "10/10 [==============================] - 0s 1ms/step - loss: 0.0379 - accuracy: 0.9858\n",
            "Epoch 35/100\n",
            "10/10 [==============================] - 0s 2ms/step - loss: 0.0279 - accuracy: 0.9931\n",
            "Epoch 36/100\n",
            "10/10 [==============================] - 0s 3ms/step - loss: 0.0338 - accuracy: 0.9882\n",
            "Epoch 37/100\n",
            "10/10 [==============================] - 0s 2ms/step - loss: 0.0318 - accuracy: 0.9904\n",
            "Epoch 38/100\n",
            "10/10 [==============================] - 0s 2ms/step - loss: 0.0317 - accuracy: 0.9893\n",
            "Epoch 39/100\n",
            "10/10 [==============================] - 0s 2ms/step - loss: 0.0299 - accuracy: 0.9918\n",
            "Epoch 40/100\n",
            "10/10 [==============================] - 0s 2ms/step - loss: 0.0273 - accuracy: 0.9920\n",
            "Epoch 41/100\n",
            "10/10 [==============================] - 0s 2ms/step - loss: 0.0361 - accuracy: 0.9850\n",
            "Epoch 42/100\n",
            "10/10 [==============================] - 0s 857us/step - loss: 0.0323 - accuracy: 0.9904\n",
            "Epoch 43/100\n",
            "10/10 [==============================] - 0s 4ms/step - loss: 0.0314 - accuracy: 0.9889\n",
            "Epoch 44/100\n",
            "10/10 [==============================] - 0s 3ms/step - loss: 0.0213 - accuracy: 0.9937\n",
            "Epoch 45/100\n",
            "10/10 [==============================] - 0s 3ms/step - loss: 0.0259 - accuracy: 0.9910\n",
            "Epoch 46/100\n",
            "10/10 [==============================] - 0s 1ms/step - loss: 0.0309 - accuracy: 0.9897\n",
            "Epoch 47/100\n",
            "10/10 [==============================] - 0s 1ms/step - loss: 0.0317 - accuracy: 0.9880\n",
            "Epoch 48/100\n",
            "10/10 [==============================] - 0s 1ms/step - loss: 0.0386 - accuracy: 0.9850\n",
            "Epoch 49/100\n",
            "10/10 [==============================] - 0s 3ms/step - loss: 0.0242 - accuracy: 0.9944\n",
            "Epoch 50/100\n",
            "10/10 [==============================] - 0s 2ms/step - loss: 0.0268 - accuracy: 0.9909\n",
            "Epoch 51/100\n",
            "10/10 [==============================] - 0s 4ms/step - loss: 0.0267 - accuracy: 0.9925\n",
            "Epoch 52/100\n",
            "10/10 [==============================] - 0s 2ms/step - loss: 0.0243 - accuracy: 0.9928\n",
            "Epoch 53/100\n",
            "10/10 [==============================] - 0s 3ms/step - loss: 0.0305 - accuracy: 0.9900\n",
            "Epoch 54/100\n",
            "10/10 [==============================] - 0s 2ms/step - loss: 0.0275 - accuracy: 0.9932\n",
            "Epoch 55/100\n",
            "10/10 [==============================] - 0s 2ms/step - loss: 0.0285 - accuracy: 0.9919\n",
            "Epoch 56/100\n",
            "10/10 [==============================] - 0s 2ms/step - loss: 0.0322 - accuracy: 0.9887\n",
            "Epoch 57/100\n",
            "10/10 [==============================] - 0s 2ms/step - loss: 0.0251 - accuracy: 0.9926\n",
            "Epoch 58/100\n",
            "10/10 [==============================] - 0s 2ms/step - loss: 0.0280 - accuracy: 0.9867\n",
            "Epoch 59/100\n",
            "10/10 [==============================] - 0s 2ms/step - loss: 0.0250 - accuracy: 0.9911\n",
            "Epoch 60/100\n",
            "10/10 [==============================] - 0s 2ms/step - loss: 0.0274 - accuracy: 0.9919\n",
            "Epoch 61/100\n",
            "10/10 [==============================] - 0s 2ms/step - loss: 0.0290 - accuracy: 0.9893\n",
            "Epoch 62/100\n",
            "10/10 [==============================] - 0s 2ms/step - loss: 0.0160 - accuracy: 0.9976\n",
            "Epoch 63/100\n",
            "10/10 [==============================] - 0s 1ms/step - loss: 0.0261 - accuracy: 0.9908\n",
            "Epoch 64/100\n",
            "10/10 [==============================] - 0s 2ms/step - loss: 0.0296 - accuracy: 0.9902\n",
            "Epoch 65/100\n",
            "10/10 [==============================] - 0s 3ms/step - loss: 0.0232 - accuracy: 0.9913\n",
            "Epoch 66/100\n",
            "10/10 [==============================] - 0s 2ms/step - loss: 0.0234 - accuracy: 0.9939\n",
            "Epoch 67/100\n",
            "10/10 [==============================] - 0s 2ms/step - loss: 0.0330 - accuracy: 0.9860\n",
            "Epoch 68/100\n",
            "10/10 [==============================] - 0s 2ms/step - loss: 0.0312 - accuracy: 0.9853\n",
            "Epoch 69/100\n",
            "10/10 [==============================] - 0s 2ms/step - loss: 0.0378 - accuracy: 0.9822\n",
            "Epoch 70/100\n",
            "10/10 [==============================] - 0s 2ms/step - loss: 0.0263 - accuracy: 0.9881\n",
            "Epoch 71/100\n",
            "10/10 [==============================] - 0s 2ms/step - loss: 0.0416 - accuracy: 0.9804\n",
            "Epoch 72/100\n",
            "10/10 [==============================] - 0s 2ms/step - loss: 0.0317 - accuracy: 0.9866\n",
            "Epoch 73/100\n",
            "10/10 [==============================] - 0s 1ms/step - loss: 0.0234 - accuracy: 0.9908\n",
            "Epoch 74/100\n",
            "10/10 [==============================] - 0s 1ms/step - loss: 0.0179 - accuracy: 0.9943\n",
            "Epoch 75/100\n",
            "10/10 [==============================] - 0s 1ms/step - loss: 0.0256 - accuracy: 0.9906\n",
            "Epoch 76/100\n",
            "10/10 [==============================] - 0s 2ms/step - loss: 0.0203 - accuracy: 0.9938\n",
            "Epoch 77/100\n",
            "10/10 [==============================] - 0s 2ms/step - loss: 0.0315 - accuracy: 0.9859\n",
            "Epoch 78/100\n",
            "10/10 [==============================] - 0s 2ms/step - loss: 0.0263 - accuracy: 0.9892\n",
            "Epoch 79/100\n",
            "10/10 [==============================] - 0s 2ms/step - loss: 0.0158 - accuracy: 0.9960\n",
            "Epoch 80/100\n",
            "10/10 [==============================] - 0s 1ms/step - loss: 0.0165 - accuracy: 0.9950\n",
            "Epoch 81/100\n",
            "10/10 [==============================] - 0s 2ms/step - loss: 0.0263 - accuracy: 0.9886\n",
            "Epoch 82/100\n",
            "10/10 [==============================] - 0s 2ms/step - loss: 0.0296 - accuracy: 0.9897\n",
            "Epoch 83/100\n",
            "10/10 [==============================] - 0s 1ms/step - loss: 0.0401 - accuracy: 0.9799\n",
            "Epoch 84/100\n",
            "10/10 [==============================] - 0s 2ms/step - loss: 0.0310 - accuracy: 0.9872\n",
            "Epoch 85/100\n",
            "10/10 [==============================] - 0s 1ms/step - loss: 0.0358 - accuracy: 0.9828\n",
            "Epoch 86/100\n",
            "10/10 [==============================] - 0s 1ms/step - loss: 0.0216 - accuracy: 0.9914\n",
            "Epoch 87/100\n",
            "10/10 [==============================] - 0s 1ms/step - loss: 0.0215 - accuracy: 0.9912\n",
            "Epoch 88/100\n",
            "10/10 [==============================] - 0s 1ms/step - loss: 0.0380 - accuracy: 0.9848\n",
            "Epoch 89/100\n",
            "10/10 [==============================] - 0s 1ms/step - loss: 0.0242 - accuracy: 0.9898\n",
            "Epoch 90/100\n",
            "10/10 [==============================] - 0s 1ms/step - loss: 0.0191 - accuracy: 0.9940\n",
            "Epoch 91/100\n",
            "10/10 [==============================] - 0s 2ms/step - loss: 0.0229 - accuracy: 0.9918\n",
            "Epoch 92/100\n",
            "10/10 [==============================] - 0s 1ms/step - loss: 0.0229 - accuracy: 0.9935\n",
            "Epoch 93/100\n",
            "10/10 [==============================] - 0s 1ms/step - loss: 0.0237 - accuracy: 0.9918\n",
            "Epoch 94/100\n",
            "10/10 [==============================] - 0s 1ms/step - loss: 0.0202 - accuracy: 0.9935\n",
            "Epoch 95/100\n",
            "10/10 [==============================] - 0s 1ms/step - loss: 0.0181 - accuracy: 0.9926\n",
            "Epoch 96/100\n",
            "10/10 [==============================] - 0s 2ms/step - loss: 0.0246 - accuracy: 0.9911\n",
            "Epoch 97/100\n",
            "10/10 [==============================] - 0s 1ms/step - loss: 0.0243 - accuracy: 0.9897\n",
            "Epoch 98/100\n",
            "10/10 [==============================] - 0s 2ms/step - loss: 0.0285 - accuracy: 0.9876\n",
            "Epoch 99/100\n",
            "10/10 [==============================] - 0s 2ms/step - loss: 0.0296 - accuracy: 0.9879\n",
            "Epoch 100/100\n",
            "10/10 [==============================] - 0s 2ms/step - loss: 0.0185 - accuracy: 0.9923\n"
          ],
          "name": "stdout"
        },
        {
          "output_type": "execute_result",
          "data": {
            "text/plain": [
              "<tensorflow.python.keras.callbacks.History at 0x7fbd02f11630>"
            ]
          },
          "metadata": {
            "tags": []
          },
          "execution_count": 6
        }
      ]
    },
    {
      "cell_type": "code",
      "metadata": {
        "id": "u2wiwCrh6Sj4"
      },
      "source": [
        "# same from the previous code but y is changed to y_cat in the next line (no actual effect)\n",
        "# and instead of model.predict we use model.predict_classes\n",
        "def plot_decision_boundary(X, y_cat, model):\n",
        "    x_span = np.linspace(min(X[:, 0]) - 1, max(X[:, 0]) + 1)\n",
        "    y_span = np.linspace(min(X[:, 1]) - 1, max(X[:, 1]) + 1)\n",
        "    xx ,yy = np.meshgrid(x_span, y_span)\n",
        "    # xx will be a 50 * 50 matrix with with repeated raws (50 raws of x_span which has 50 elements)\n",
        "    # yy will be a 50 * 50 matrics with repeated columns (50 columns of y_span which has 50 elements)\n",
        "    xx_,yy_ = xx.ravel() , yy.ravel() # convert them to one dimensional\n",
        "    grid = np.c_[xx_,yy_] # no we have a 50 * 50 grid that spans across our entire data set\n",
        "    pred_func = model.predict_classes(grid) # feeding to grid to the predict function means that our model will test all the data set points in this grid\n",
        "    z = pred_func.reshape(xx.shape)\n",
        "    plt.contourf(xx,yy,z) # it shows contour zones  "
      ],
      "execution_count": null,
      "outputs": []
    },
    {
      "cell_type": "code",
      "metadata": {
        "id": "KGP3M1bWAg4Z",
        "colab": {
          "base_uri": "https://localhost:8080/",
          "height": 336
        },
        "outputId": "0e7ac727-8d22-49d7-9a1f-a8906f718f4e"
      },
      "source": [
        "plot_decision_boundary(X, y_cat, model)\n",
        "plt.scatter(X[y==0, 0], X[y==0, 1])\n",
        "plt.scatter(X[y==1, 0], X[y==1, 1])\n",
        "plt.scatter(X[y==2, 0], X[y==2, 1])"
      ],
      "execution_count": null,
      "outputs": [
        {
          "output_type": "stream",
          "text": [
            "/usr/local/lib/python3.6/dist-packages/tensorflow/python/keras/engine/sequential.py:450: UserWarning: `model.predict_classes()` is deprecated and will be removed after 2021-01-01. Please use instead:* `np.argmax(model.predict(x), axis=-1)`,   if your model does multi-class classification   (e.g. if it uses a `softmax` last-layer activation).* `(model.predict(x) > 0.5).astype(\"int32\")`,   if your model does binary classification   (e.g. if it uses a `sigmoid` last-layer activation).\n",
            "  warnings.warn('`model.predict_classes()` is deprecated and '\n"
          ],
          "name": "stderr"
        },
        {
          "output_type": "execute_result",
          "data": {
            "text/plain": [
              "<matplotlib.collections.PathCollection at 0x7fbd007e8780>"
            ]
          },
          "metadata": {
            "tags": []
          },
          "execution_count": 8
        },
        {
          "output_type": "display_data",
          "data": {
            "image/png": "[encoded data removed]",
            "text/plain": [
              "<Figure size 432x288 with 1 Axes>"
            ]
          },
          "metadata": {
            "tags": [],
            "needs_background": "light"
          }
        }
      ]
    },
    {
      "cell_type": "code",
      "metadata": {
        "id": "CVKIUMDyAhHz",
        "colab": {
          "base_uri": "https://localhost:8080/",
          "height": 336
        },
        "outputId": "5ceb5135-1143-44fe-92f4-b487f293be64"
      },
      "source": [
        "# now we predict new points\n",
        "plot_decision_boundary(X, y_cat, model)\n",
        "plt.scatter(X[y==0, 0], X[y==0, 1])\n",
        "plt.scatter(X[y==1, 0], X[y==1, 1])\n",
        "plt.scatter(X[y==2, 0], X[y==2, 1])\n",
        "x = 0.5\n",
        "y = 0.5\n",
        "point = np.array([[x,y]])\n",
        "prediction = model.predict_classes(point)\n",
        "plt.plot([x], [y], marker='o', markersize = 10, color='red')\n",
        "print(\"prediction is: \", prediction)"
      ],
      "execution_count": null,
      "outputs": [
        {
          "output_type": "stream",
          "text": [
            "/usr/local/lib/python3.6/dist-packages/tensorflow/python/keras/engine/sequential.py:450: UserWarning: `model.predict_classes()` is deprecated and will be removed after 2021-01-01. Please use instead:* `np.argmax(model.predict(x), axis=-1)`,   if your model does multi-class classification   (e.g. if it uses a `softmax` last-layer activation).* `(model.predict(x) > 0.5).astype(\"int32\")`,   if your model does binary classification   (e.g. if it uses a `sigmoid` last-layer activation).\n",
            "  warnings.warn('`model.predict_classes()` is deprecated and '\n"
          ],
          "name": "stderr"
        },
        {
          "output_type": "stream",
          "text": [
            "prediction is:  [0]\n"
          ],
          "name": "stdout"
        },
        {
          "output_type": "display_data",
          "data": {
            "image/png": "[encoded data removed]",
            "text/plain": [
              "<Figure size 432x288 with 1 Axes>"
            ]
          },
          "metadata": {
            "tags": [],
            "needs_background": "light"
          }
        }
      ]
    }
  ]
}